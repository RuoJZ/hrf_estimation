{
 "metadata": {
  "name": "figures_natural_images"
 },
 "nbformat": 3,
 "nbformat_minor": 0,
 "worksheets": [
  {
   "cells": [
    {
     "cell_type": "heading",
     "level": 1,
     "metadata": {},
     "source": [
      "HRF estimation from the Natural images dataset"
     ]
    },
    {
     "cell_type": "code",
     "collapsed": false,
     "input": [
      "import tempfile\n",
      "\n",
      "import numpy as np\n",
      "import scipy\n",
      "import scipy.io\n",
      "import pylab as pl\n",
      "from scipy import linalg, signal\n",
      "from sklearn import cross_validation\n",
      "\n",
      "import hrf_estimation as he # pip install -U hrf_estimation\n",
      "from nipy.modalities.fmri import hemodynamic_models as hdm"
     ],
     "language": "python",
     "metadata": {},
     "outputs": [],
     "prompt_number": 2
    },
    {
     "cell_type": "markdown",
     "metadata": {},
     "source": [
      "Set constants that will be used thorought the notebook"
     ]
    },
    {
     "cell_type": "code",
     "collapsed": false,
     "input": [
      "DIR = tempfile.mkdtemp()\n",
      "fir_length = 20\n",
      "canonical = hdm.glover_hrf(1., 1., fir_length)"
     ],
     "language": "python",
     "metadata": {},
     "outputs": [],
     "prompt_number": 3
    },
    {
     "cell_type": "markdown",
     "metadata": {},
     "source": [
      "Download data from the internet, this step takes about two minutes. The data is described in *\"Identifying natural images from human brain activity\"*, Kendrick N. Kay, Thomas Naselaris, Ryan J. Prenger and Jack L. Gallant and publicly available from http://crcns.org/data-sets/vc/vim-1/about-vim-1 \n",
      "\n",
      "Here, we selected the 100 top performing voxels in the associated decoding task."
     ]
    },
    {
     "cell_type": "code",
     "collapsed": false,
     "input": [
      "ds = np.DataSource(DIR)\n",
      "X = scipy.io.mmread(ds.open('http://fa.bianp.net/projects/hrf_estimation/data/X.mtx.gz')).tocsr()\n",
      "Y = scipy.io.mmread(ds.open('http://fa.bianp.net/projects/hrf_estimation/data/Y.mtx.gz'))\n",
      "drifts = scipy.io.mmread(ds.open('http://fa.bianp.net/projects/hrf_estimation/data/drifts.mtx.gz'))"
     ],
     "language": "python",
     "metadata": {},
     "outputs": [],
     "prompt_number": 4
    },
    {
     "cell_type": "markdown",
     "metadata": {},
     "source": [
      "Plot the estimated HRF together with the canonical HRF. First we'll estimated the HRF using a rank-one model, then we'll plot the result."
     ]
    },
    {
     "cell_type": "code",
     "collapsed": false,
     "input": [
      "k = X.shape[0] / 5\n",
      "Y = scipy.signal.detrend(Y, bp=np.linspace(0, X.shape[0], 5 * 5).astype(np.int), axis=0, type='linear')\n",
      "\n",
      "U, V  = [], []\n",
      "n = Y.shape[1]\n",
      "for i, yi in enumerate(Y.T):\n",
      "    out = he.rank_one(\n",
      "        X, yi, alpha=1., size_u=fir_length,\n",
      "        u0=canonical, Z=drifts, rtol=1e-4, verbose=False, maxiter=100)\n",
      "    U.append(out[0].ravel())\n",
      "    V.append(out[1].ravel())\n",
      "    print('Finished voxel %s out of 50' % (i+1))\n",
      "U = np.asarray(U).T\n",
      "V = np.asarray(V).T"
     ],
     "language": "python",
     "metadata": {},
     "outputs": [
      {
       "output_type": "stream",
       "stream": "stdout",
       "text": [
        "Finished voxel 1 out of 50\n",
        "Finished voxel 2 out of 50"
       ]
      },
      {
       "output_type": "stream",
       "stream": "stdout",
       "text": [
        "\n",
        "Finished voxel 3 out of 50"
       ]
      },
      {
       "output_type": "stream",
       "stream": "stdout",
       "text": [
        "\n",
        "Finished voxel 4 out of 50"
       ]
      },
      {
       "output_type": "stream",
       "stream": "stdout",
       "text": [
        "\n",
        "Finished voxel 5 out of 50"
       ]
      },
      {
       "output_type": "stream",
       "stream": "stdout",
       "text": [
        "\n",
        "Finished voxel 6 out of 50"
       ]
      },
      {
       "output_type": "stream",
       "stream": "stdout",
       "text": [
        "\n",
        "Finished voxel 7 out of 50"
       ]
      },
      {
       "output_type": "stream",
       "stream": "stdout",
       "text": [
        "\n",
        "Finished voxel 8 out of 50"
       ]
      },
      {
       "output_type": "stream",
       "stream": "stdout",
       "text": [
        "\n",
        "Finished voxel 9 out of 50"
       ]
      },
      {
       "output_type": "stream",
       "stream": "stdout",
       "text": [
        "\n",
        "Finished voxel 10 out of 50"
       ]
      },
      {
       "output_type": "stream",
       "stream": "stdout",
       "text": [
        "\n",
        "Finished voxel 11 out of 50"
       ]
      },
      {
       "output_type": "stream",
       "stream": "stdout",
       "text": [
        "\n",
        "Finished voxel 12 out of 50"
       ]
      },
      {
       "output_type": "stream",
       "stream": "stdout",
       "text": [
        "\n",
        "Finished voxel 13 out of 50"
       ]
      },
      {
       "output_type": "stream",
       "stream": "stdout",
       "text": [
        "\n",
        "Finished voxel 14 out of 50"
       ]
      },
      {
       "output_type": "stream",
       "stream": "stdout",
       "text": [
        "\n",
        "Finished voxel 15 out of 50"
       ]
      },
      {
       "output_type": "stream",
       "stream": "stdout",
       "text": [
        "\n",
        "Finished voxel 16 out of 50"
       ]
      },
      {
       "output_type": "stream",
       "stream": "stdout",
       "text": [
        "\n",
        "Finished voxel 17 out of 50"
       ]
      },
      {
       "output_type": "stream",
       "stream": "stdout",
       "text": [
        "\n",
        "Finished voxel 18 out of 50"
       ]
      },
      {
       "output_type": "stream",
       "stream": "stdout",
       "text": [
        "\n",
        "Finished voxel 19 out of 50"
       ]
      },
      {
       "output_type": "stream",
       "stream": "stdout",
       "text": [
        "\n",
        "Finished voxel 20 out of 50"
       ]
      },
      {
       "output_type": "stream",
       "stream": "stdout",
       "text": [
        "\n",
        "Finished voxel 21 out of 50"
       ]
      },
      {
       "output_type": "stream",
       "stream": "stdout",
       "text": [
        "\n",
        "Finished voxel 22 out of 50"
       ]
      },
      {
       "output_type": "stream",
       "stream": "stdout",
       "text": [
        "\n",
        "Finished voxel 23 out of 50"
       ]
      },
      {
       "output_type": "stream",
       "stream": "stdout",
       "text": [
        "\n",
        "Finished voxel 24 out of 50"
       ]
      },
      {
       "output_type": "stream",
       "stream": "stdout",
       "text": [
        "\n",
        "Finished voxel 25 out of 50"
       ]
      },
      {
       "output_type": "stream",
       "stream": "stdout",
       "text": [
        "\n",
        "Finished voxel 26 out of 50"
       ]
      },
      {
       "output_type": "stream",
       "stream": "stdout",
       "text": [
        "\n",
        "Finished voxel 27 out of 50"
       ]
      },
      {
       "output_type": "stream",
       "stream": "stdout",
       "text": [
        "\n",
        "Finished voxel 28 out of 50"
       ]
      },
      {
       "output_type": "stream",
       "stream": "stdout",
       "text": [
        "\n",
        "Finished voxel 29 out of 50"
       ]
      },
      {
       "output_type": "stream",
       "stream": "stdout",
       "text": [
        "\n",
        "Finished voxel 30 out of 50"
       ]
      },
      {
       "output_type": "stream",
       "stream": "stdout",
       "text": [
        "\n",
        "Finished voxel 31 out of 50"
       ]
      },
      {
       "output_type": "stream",
       "stream": "stdout",
       "text": [
        "\n",
        "Finished voxel 32 out of 50"
       ]
      },
      {
       "output_type": "stream",
       "stream": "stdout",
       "text": [
        "\n",
        "Finished voxel 33 out of 50"
       ]
      },
      {
       "output_type": "stream",
       "stream": "stdout",
       "text": [
        "\n",
        "Finished voxel 34 out of 50"
       ]
      },
      {
       "output_type": "stream",
       "stream": "stdout",
       "text": [
        "\n",
        "Finished voxel 35 out of 50"
       ]
      },
      {
       "output_type": "stream",
       "stream": "stdout",
       "text": [
        "\n",
        "Finished voxel 36 out of 50"
       ]
      },
      {
       "output_type": "stream",
       "stream": "stdout",
       "text": [
        "\n",
        "Finished voxel 37 out of 50"
       ]
      },
      {
       "output_type": "stream",
       "stream": "stdout",
       "text": [
        "\n",
        "Finished voxel 38 out of 50"
       ]
      },
      {
       "output_type": "stream",
       "stream": "stdout",
       "text": [
        "\n",
        "Finished voxel 39 out of 50"
       ]
      },
      {
       "output_type": "stream",
       "stream": "stdout",
       "text": [
        "\n",
        "Finished voxel 40 out of 50"
       ]
      },
      {
       "output_type": "stream",
       "stream": "stdout",
       "text": [
        "\n",
        "Finished voxel 41 out of 50"
       ]
      },
      {
       "output_type": "stream",
       "stream": "stdout",
       "text": [
        "\n",
        "Finished voxel 42 out of 50"
       ]
      },
      {
       "output_type": "stream",
       "stream": "stdout",
       "text": [
        "\n",
        "Finished voxel 43 out of 50"
       ]
      },
      {
       "output_type": "stream",
       "stream": "stdout",
       "text": [
        "\n",
        "Finished voxel 44 out of 50"
       ]
      },
      {
       "output_type": "stream",
       "stream": "stdout",
       "text": [
        "\n",
        "Finished voxel 45 out of 50"
       ]
      },
      {
       "output_type": "stream",
       "stream": "stdout",
       "text": [
        "\n",
        "Finished voxel 46 out of 50"
       ]
      },
      {
       "output_type": "stream",
       "stream": "stdout",
       "text": [
        "\n",
        "Finished voxel 47 out of 50"
       ]
      },
      {
       "output_type": "stream",
       "stream": "stdout",
       "text": [
        "\n",
        "Finished voxel 48 out of 50"
       ]
      },
      {
       "output_type": "stream",
       "stream": "stdout",
       "text": [
        "\n",
        "Finished voxel 49 out of 50"
       ]
      },
      {
       "output_type": "stream",
       "stream": "stdout",
       "text": [
        "\n",
        "Finished voxel 50 out of 50"
       ]
      },
      {
       "output_type": "stream",
       "stream": "stdout",
       "text": [
        "\n"
       ]
      },
      {
       "output_type": "stream",
       "stream": "stderr",
       "text": [
        "/volatile/fabian/dev/hrf_estimation/hrf_estimation.py:171: OptimizeWarning: Unknown solver options: factr, verbose\n",
        "  args=(X, y_i, Z_, size_u, alpha, u0_i), tol=1e-12, callback=callback)\n"
       ]
      }
     ],
     "prompt_number": 5
    },
    {
     "cell_type": "code",
     "collapsed": false,
     "input": [
      "for perc in np.linspace(0, 100, 5):\n",
      "    UU = (U - U.mean(1)[:, None])\n",
      "    idx = (np.abs(UU) < np.percentile(np.abs(UU), perc, axis=1)[:, None])\n",
      "    UU = []\n",
      "    for i in range(U.shape[0]):\n",
      "        UU.append(np.std(U[i, idx[i]]))\n",
      "\n",
      "    ax = pl.gca()\n",
      "    y = np.mean(U, axis=1) / np.mean(U, 1).max()\n",
      "    x = range(U.shape[0])\n",
      "    yerr = UU\n",
      "    ymin = y - yerr\n",
      "    ymax = y + yerr\n",
      "    #ax.plot(x, y, color=color, label=label, linewidth=4.)\n",
      "    ax.fill_between(x, ymax, ymin, color='blue', alpha=.5 * np.log(2. - perc / 100.))\n",
      "\n",
      "pl.plot(U.mean(1) / U.mean(1).max(), label='estimated HRF', linewidth=4., color='blue')\n",
      "pl.plot(canonical / canonical.max(), label='canonical HRF', linewidth=4., color='green')\n",
      "pl.legend(fontsize=30)\n",
      "fig = matplotlib.pyplot.gcf()\n",
      "fig.set_size_inches(10.5,8.5)\n",
      "pl.axis('tight')\n",
      "pl.xticks(fontsize=25)\n",
      "pl.yticks(fontsize=25)\n",
      "pl.xlabel('Time (seconds)', fontsize=35)\n",
      "pl.show()"
     ],
     "language": "python",
     "metadata": {},
     "outputs": [
      {
       "output_type": "display_data",
       "png": "[encoded data removed]"
      }
     ],
     "prompt_number": 7
    },
    {
     "cell_type": "code",
     "collapsed": false,
     "input": [],
     "language": "python",
     "metadata": {},
     "outputs": []
    }
   ],
   "metadata": {}
  }
 ]
}